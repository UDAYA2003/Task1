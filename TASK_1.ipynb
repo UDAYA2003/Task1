{
  "nbformat": 4,
  "nbformat_minor": 0,
  "metadata": {
    "colab": {
      "provenance": [],
      "authorship_tag": "ABX9TyP+1Z7x/YviGIB+VXiT1VUf",
      "include_colab_link": true
    },
    "kernelspec": {
      "name": "python3",
      "display_name": "Python 3"
    },
    "language_info": {
      "name": "python"
    }
  },
  "cells": [
    {
      "cell_type": "markdown",
      "metadata": {
        "id": "view-in-github",
        "colab_type": "text"
      },
      "source": [
        "<a href=\"https://colab.research.google.com/github/UDAYA2003/Task1/blob/main/TASK_1.ipynb\" target=\"_parent\"><img src=\"https://colab.research.google.com/assets/colab-badge.svg\" alt=\"Open In Colab\"/></a>"
      ]
    },
    {
      "cell_type": "code",
      "execution_count": 14,
      "metadata": {
        "id": "9jx7X0Fr3K2V",
        "colab": {
          "base_uri": "https://localhost:8080/"
        },
        "outputId": "7f2f4ae6-657b-4333-8e0d-137fdac75df7"
      },
      "outputs": [
        {
          "output_type": "stream",
          "name": "stdout",
          "text": [
            "Enter data:5.3\n",
            "[54.29543138]\n"
          ]
        }
      ],
      "source": [
        "import numpy as np\n",
        "import pandas as pd\n",
        "from sklearn.linear_model import LinearRegression\n",
        "from sklearn.model_selection import train_test_split\n",
        "\n",
        "import numpy as np\n",
        "import pandas as pd\n",
        "df=pd.read_csv('https://raw.githubusercontent.com/AdiPersonalWorks/Random/master/student_scores%20-%20student_scores.csv')\n",
        "df['Hours'] = df['Hours'].astype(float)\n",
        "X=df[['Hours']]\n",
        "y=df['Scores']\n",
        "model = LinearRegression()\n",
        "data=pd.DataFrame({'Hours':[(input(\"Enter data:\"))]})\n",
        "model.fit(X,y)\n",
        "\n",
        "p=model.predict(data)\n",
        "#print(X)\n",
        "#print(y)\n",
        "print(p)\n"
      ]
    }
  ]
}